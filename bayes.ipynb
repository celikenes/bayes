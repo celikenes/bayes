{
  "nbformat": 4,
  "nbformat_minor": 0,
  "metadata": {
    "colab": {
      "name": "Untitled3.ipynb",
      "version": "0.3.2",
      "provenance": [],
      "include_colab_link": true
    },
    "kernelspec": {
      "name": "python3",
      "display_name": "Python 3"
    }
  },
  "cells": [
    {
      "cell_type": "markdown",
      "metadata": {
        "id": "view-in-github",
        "colab_type": "text"
      },
      "source": [
        "<a href=\"https://colab.research.google.com/github/celikenes/bayes/blob/master/bayes.ipynb\" target=\"_parent\"><img src=\"https://colab.research.google.com/assets/colab-badge.svg\" alt=\"Open In Colab\"/></a>"
      ]
    },
    {
      "metadata": {
        "id": "nz4cQVPZITyX",
        "colab_type": "text"
      },
      "cell_type": "markdown",
      "source": [
        "# BAYES TEOREMI\n",
        "\n",
        "## Soru:\n",
        "\n",
        "Bir siniftaki ogrencilerin %40’i erkektir.\n",
        "Erkeklerin %30, kizlarin %20’si fizikten kalmistir.\n",
        "Secilen bir ogrencinin fizikten kaldigi bilindigine gore,\n",
        "bu ogrencinin erkek olma olasiligi nedir? \n",
        "veya bu ogrencinin kiz olma olasiligi nedir?\n",
        "\n",
        "\n",
        "## Cevap:\n",
        "                              \n",
        "Olasilik Degeri = Olay (Erkekler) / Ornek Uzay (Fizikten Kalanlar)"
      ]
    },
    {
      "metadata": {
        "id": "FMGbb5AhI3BI",
        "colab_type": "code",
        "colab": {
          "base_uri": "https://localhost:8080/",
          "height": 238
        },
        "outputId": "880ac919-cf4c-4944-c180-d1d9fdb72f98"
      },
      "cell_type": "code",
      "source": [
        "\"\"\"\n",
        "Degiskenler\n",
        "maleRate: Siniftaki erkek orani\n",
        "femaleRate: Siniftaki kiz orani\n",
        "remainingMaleRate: Fizikten kalan erkek orani\n",
        "remainingFemaleRate: Fizikten kalan kiz orani\n",
        "passingMaleRate: Fizikten gecen erkek orani\n",
        "passingFemaleRate: Fizikten gecen kiz orani\n",
        "probabilityMale: Fizikten kalan öğrencinin erkek olma olasiligi\n",
        "probabilityFemale: Fizikten kalan öğrencinin kiz olma olasiligi\n",
        "\n",
        "\"\"\"\n",
        "\n",
        "maleRate = int (input(\"siniftaki ogrencilerin yuzde kaci erkek: \"))\n",
        "remainingMaleRate = int (input(\"siniftaki erkeklerin yuzde kaci fizik dersinden kalmistir: \"))\n",
        "remainingFemaleRate = int (input(\"siniftaki kizlarin yuzde kaci fizik dersinden kalmistir: \"))\n",
        "\n",
        "femaleRate = int (100 - maleRate)\n",
        "print(\"\\n siniftaki ogrencilerin yuzde \",femaleRate,\" kizdir\")\n",
        "\n",
        "passingMaleRate = 100 - remainingMaleRate\n",
        "passingFemaleRate = 100 - remainingFemaleRate\n",
        "\n",
        "print(\"\\n siniftaki erkeklerin yuzde \",passingMaleRate,\" fizik dersinden gecmistir\")\n",
        "print(\"\\n siniftaki kizlarin yuzde \",passingFemaleRate,\" fizik dersinden gecmistir\")\n",
        "\n",
        "probabilityMale = (maleRate*remainingMaleRate)/((maleRate*remainingMaleRate)+(femaleRate*remainingFemaleRate))\n",
        "probabilityFemale = (femaleRate*remainingFemaleRate)/((maleRate*remainingMaleRate)+(femaleRate*remainingFemaleRate))\n",
        "\n",
        "print(\"\\n secilen bir ogrencinin fizikten kaldigi biliniyorsa erkek olma olasiligi: \",probabilityMale)\n",
        "print(\"\\n secilen bir ogrencinin fizikten kaldigi biliniyorsa kiz olma olasiligi: \",probabilityFemale)"
      ],
      "execution_count": 1,
      "outputs": [
        {
          "output_type": "stream",
          "text": [
            "siniftaki ogrencilerin yuzde kaci erkek: 40\n",
            "siniftaki erkeklerin yuzde kaci fizik dersinden kalmistir: 30\n",
            "siniftaki kizlarin yuzde kaci fizik dersinden kalmistir: 50\n",
            "\n",
            " siniftaki ogrencilerin yuzde  60  kizdir\n",
            "\n",
            " siniftaki erkeklerin yuzde  70  fizik dersinden gecmistir\n",
            "\n",
            " siniftaki kizlarin yuzde  50  fizik dersinden gecmistir\n",
            "\n",
            " secilen bir ogrencinin fizikten kaldigi biliniyorsa erkek olma olasiligi:  0.2857142857142857\n",
            "\n",
            " secilen bir ogrencinin fizikten kaldigi biliniyorsa kiz olma olasiligi:  0.7142857142857143\n"
          ],
          "name": "stdout"
        }
      ]
    }
  ]
}